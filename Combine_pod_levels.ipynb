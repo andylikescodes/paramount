{
 "cells": [
  {
   "cell_type": "code",
   "execution_count": 50,
   "metadata": {},
   "outputs": [],
   "source": [
    "import numpy as np\n",
    "import pandas as pd\n",
    "import chardet\n",
    "import matplotlib.pyplot as plt\n",
    "import seaborn as sns\n",
    "%matplotlib inline\n",
    "import statsmodels.api as sm\n",
    "from scipy import stats\n",
    "\n",
    "sns.set(rc={'figure.figsize':(20, 10)})"
   ]
  },
  {
   "cell_type": "code",
   "execution_count": 51,
   "metadata": {},
   "outputs": [],
   "source": [
    "with open('EDO_SampleData.csv', 'rb') as f:\n",
    "    result = chardet.detect(f.read())\n",
    "    \n",
    "data = pd.read_csv('EDO_SampleData.csv', encoding=result['encoding'])\n",
    "useful_columns = ['Entity Name', 'Network', 'Show Title', 'Show Genre', 'Show Sub Genre', 'Duration', 'Daypart (ET)', 'New Episode', 'Live Event', 'Special Event', 'Pod ABMYZ', 'Creative SER']\n",
    "data1 = data[useful_columns].dropna(axis=0)"
   ]
  },
  {
   "cell_type": "code",
   "execution_count": 52,
   "metadata": {},
   "outputs": [],
   "source": [
    "data1['Pod First Last'] = data1['Pod ABMYZ'].copy()"
   ]
  },
  {
   "cell_type": "code",
   "execution_count": 53,
   "metadata": {},
   "outputs": [],
   "source": [
    "data1.loc[data1['Pod ABMYZ'] == 'A', 'Pod First Last'] = 1"
   ]
  },
  {
   "cell_type": "code",
   "execution_count": 54,
   "metadata": {
    "scrolled": false
   },
   "outputs": [],
   "source": [
    "data1.loc[data1['Pod ABMYZ'] == 'Z', 'Pod First Last'] = 1\n",
    "data1.loc[data1['Pod ABMYZ'] == 'B', 'Pod First Last'] = 2\n",
    "data1.loc[data1['Pod ABMYZ'] == 'Y', 'Pod First Last'] = 2\n",
    "data1.loc[data1['Pod ABMYZ'] == 'M', 'Pod First Last'] = 3"
   ]
  },
  {
   "cell_type": "code",
   "execution_count": 62,
   "metadata": {},
   "outputs": [],
   "source": [
    "Pod_First = data1.loc[data1['Pod First Last'] == 1, 'Creative SER']\n",
    "Pod_Second = data1.loc[data1['Pod First Last'] == 2, 'Creative SER'] \n",
    "Pod_Middle = data1.loc[data1['Pod First Last'] == 3, 'Creative SER']"
   ]
  },
  {
   "cell_type": "code",
   "execution_count": 65,
   "metadata": {},
   "outputs": [
    {
     "data": {
      "text/plain": [
       "F_onewayResult(statistic=3.812492254807549, pvalue=0.022338589423447505)"
      ]
     },
     "execution_count": 65,
     "metadata": {},
     "output_type": "execute_result"
    }
   ],
   "source": [
    "stats.f_oneway(Pod_First, Pod_Second, Pod_Middle)"
   ]
  },
  {
   "cell_type": "code",
   "execution_count": null,
   "metadata": {},
   "outputs": [],
   "source": []
  }
 ],
 "metadata": {
  "kernelspec": {
   "display_name": "Python 3",
   "language": "python",
   "name": "python3"
  },
  "language_info": {
   "codemirror_mode": {
    "name": "ipython",
    "version": 3
   },
   "file_extension": ".py",
   "mimetype": "text/x-python",
   "name": "python",
   "nbconvert_exporter": "python",
   "pygments_lexer": "ipython3",
   "version": "3.6.5"
  }
 },
 "nbformat": 4,
 "nbformat_minor": 2
}

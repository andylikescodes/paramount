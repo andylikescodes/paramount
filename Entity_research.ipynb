{
 "cells": [
  {
   "cell_type": "code",
   "execution_count": 1,
   "metadata": {},
   "outputs": [],
   "source": [
    "import numpy as np\n",
    "import pandas as pd\n",
    "import chardet\n",
    "import matplotlib.pyplot as plt\n",
    "import seaborn as sns\n",
    "%matplotlib inline\n",
    "import statsmodels.api as sm\n",
    "from scipy import stats\n",
    "\n",
    "sns.set(rc={'figure.figsize':(20, 10)})"
   ]
  },
  {
   "cell_type": "code",
   "execution_count": 2,
   "metadata": {},
   "outputs": [],
   "source": [
    "with open('EDO_SampleData.csv', 'rb') as f:\n",
    "    result = chardet.detect(f.read())"
   ]
  },
  {
   "cell_type": "code",
   "execution_count": 3,
   "metadata": {},
   "outputs": [],
   "source": [
    "data = pd.read_csv('EDO_SampleData.csv', encoding=result['encoding'])"
   ]
  },
  {
   "cell_type": "code",
   "execution_count": 5,
   "metadata": {},
   "outputs": [],
   "source": [
    "useful_columns = ['Entity Name', 'Network', 'Show Title', 'Show Genre', 'Show Sub Genre', 'Duration', 'Daypart (ET)', 'New Episode', 'Live Event', 'Special Event', 'Pod ABMYZ', 'Creative SER']\n",
    "data1 = data[useful_columns].dropna(axis=0)"
   ]
  },
  {
   "cell_type": "code",
   "execution_count": 6,
   "metadata": {},
   "outputs": [
    {
     "data": {
      "text/plain": [
       "['Entity Name',\n",
       " 'Network',\n",
       " 'Show Title',\n",
       " 'Show Genre',\n",
       " 'Show Sub Genre',\n",
       " 'Duration',\n",
       " 'Daypart (ET)',\n",
       " 'New Episode',\n",
       " 'Live Event',\n",
       " 'Special Event',\n",
       " 'Pod ABMYZ',\n",
       " 'Creative SER']"
      ]
     },
     "execution_count": 6,
     "metadata": {},
     "output_type": "execute_result"
    }
   ],
   "source": [
    "useful_columns"
   ]
  },
  {
   "cell_type": "code",
   "execution_count": 12,
   "metadata": {},
   "outputs": [
    {
     "data": {
      "text/html": [
       "<div>\n",
       "<style scoped>\n",
       "    .dataframe tbody tr th:only-of-type {\n",
       "        vertical-align: middle;\n",
       "    }\n",
       "\n",
       "    .dataframe tbody tr th {\n",
       "        vertical-align: top;\n",
       "    }\n",
       "\n",
       "    .dataframe thead th {\n",
       "        text-align: right;\n",
       "    }\n",
       "</style>\n",
       "<table border=\"1\" class=\"dataframe\">\n",
       "  <thead>\n",
       "    <tr style=\"text-align: right;\">\n",
       "      <th></th>\n",
       "      <th>mean</th>\n",
       "      <th>count</th>\n",
       "    </tr>\n",
       "    <tr>\n",
       "      <th>Entity Name</th>\n",
       "      <th></th>\n",
       "      <th></th>\n",
       "    </tr>\n",
       "  </thead>\n",
       "  <tbody>\n",
       "    <tr>\n",
       "      <th>Ralph Breaks The Internet: Wreck-It Ralph 2</th>\n",
       "      <td>16.116941</td>\n",
       "      <td>266</td>\n",
       "    </tr>\n",
       "    <tr>\n",
       "      <th>Robin Hood</th>\n",
       "      <td>8.285466</td>\n",
       "      <td>261</td>\n",
       "    </tr>\n",
       "    <tr>\n",
       "      <th>Green Book</th>\n",
       "      <td>4.122791</td>\n",
       "      <td>144</td>\n",
       "    </tr>\n",
       "    <tr>\n",
       "      <th>Creed II</th>\n",
       "      <td>25.314180</td>\n",
       "      <td>128</td>\n",
       "    </tr>\n",
       "    <tr>\n",
       "      <th>Dr. Seuss' The Grinch</th>\n",
       "      <td>14.964678</td>\n",
       "      <td>112</td>\n",
       "    </tr>\n",
       "    <tr>\n",
       "      <th>Spider-Man: Into The Spider-Verse</th>\n",
       "      <td>6.581413</td>\n",
       "      <td>94</td>\n",
       "    </tr>\n",
       "    <tr>\n",
       "      <th>Mortal Engines</th>\n",
       "      <td>7.900839</td>\n",
       "      <td>90</td>\n",
       "    </tr>\n",
       "    <tr>\n",
       "      <th>The Possession Of Hannah Grace</th>\n",
       "      <td>11.488904</td>\n",
       "      <td>57</td>\n",
       "    </tr>\n",
       "    <tr>\n",
       "      <th>The Mule</th>\n",
       "      <td>24.823363</td>\n",
       "      <td>52</td>\n",
       "    </tr>\n",
       "    <tr>\n",
       "      <th>Vice</th>\n",
       "      <td>13.645683</td>\n",
       "      <td>28</td>\n",
       "    </tr>\n",
       "    <tr>\n",
       "      <th>Bumblebee</th>\n",
       "      <td>4.239996</td>\n",
       "      <td>21</td>\n",
       "    </tr>\n",
       "    <tr>\n",
       "      <th>Aquaman</th>\n",
       "      <td>38.265530</td>\n",
       "      <td>16</td>\n",
       "    </tr>\n",
       "    <tr>\n",
       "      <th>Second Act</th>\n",
       "      <td>5.506592</td>\n",
       "      <td>15</td>\n",
       "    </tr>\n",
       "    <tr>\n",
       "      <th>Mary Poppins Returns</th>\n",
       "      <td>10.141652</td>\n",
       "      <td>12</td>\n",
       "    </tr>\n",
       "    <tr>\n",
       "      <th>Fantastic Beasts: The Crimes of Grindelwald</th>\n",
       "      <td>13.240089</td>\n",
       "      <td>10</td>\n",
       "    </tr>\n",
       "    <tr>\n",
       "      <th>Captain Marvel</th>\n",
       "      <td>3.459102</td>\n",
       "      <td>5</td>\n",
       "    </tr>\n",
       "    <tr>\n",
       "      <th>Welcome To Marwen</th>\n",
       "      <td>23.915172</td>\n",
       "      <td>2</td>\n",
       "    </tr>\n",
       "  </tbody>\n",
       "</table>\n",
       "</div>"
      ],
      "text/plain": [
       "                                                  mean  count\n",
       "Entity Name                                                  \n",
       "Ralph Breaks The Internet: Wreck-It Ralph 2  16.116941    266\n",
       "Robin Hood                                    8.285466    261\n",
       "Green Book                                    4.122791    144\n",
       "Creed II                                     25.314180    128\n",
       "Dr. Seuss' The Grinch                        14.964678    112\n",
       "Spider-Man: Into The Spider-Verse             6.581413     94\n",
       "Mortal Engines                                7.900839     90\n",
       "The Possession Of Hannah Grace               11.488904     57\n",
       "The Mule                                     24.823363     52\n",
       "Vice                                         13.645683     28\n",
       "Bumblebee                                     4.239996     21\n",
       "Aquaman                                      38.265530     16\n",
       "Second Act                                    5.506592     15\n",
       "Mary Poppins Returns                         10.141652     12\n",
       "Fantastic Beasts: The Crimes of Grindelwald  13.240089     10\n",
       "Captain Marvel                                3.459102      5\n",
       "Welcome To Marwen                            23.915172      2"
      ]
     },
     "execution_count": 12,
     "metadata": {},
     "output_type": "execute_result"
    }
   ],
   "source": [
    "data1.groupby(['Entity Name']).agg(['mean', 'count'])['Creative SER'].sort_values(by='count', ascending=False)"
   ]
  },
  {
   "cell_type": "code",
   "execution_count": null,
   "metadata": {},
   "outputs": [],
   "source": []
  }
 ],
 "metadata": {
  "kernelspec": {
   "display_name": "Python 3",
   "language": "python",
   "name": "python3"
  },
  "language_info": {
   "codemirror_mode": {
    "name": "ipython",
    "version": 3
   },
   "file_extension": ".py",
   "mimetype": "text/x-python",
   "name": "python",
   "nbconvert_exporter": "python",
   "pygments_lexer": "ipython3",
   "version": "3.6.5"
  }
 },
 "nbformat": 4,
 "nbformat_minor": 2
}
